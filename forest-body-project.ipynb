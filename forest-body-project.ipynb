{
 "cells": [
  {
   "cell_type": "code",
   "execution_count": 1,
   "id": "0f0d602f",
   "metadata": {
    "_cell_guid": "b1076dfc-b9ad-4769-8c92-a6c4dae69d19",
    "_uuid": "8f2839f25d086af736a60e9eeb907d3b93b6e0e5",
    "execution": {
     "iopub.execute_input": "2022-11-15T18:31:52.866807Z",
     "iopub.status.busy": "2022-11-15T18:31:52.866214Z",
     "iopub.status.idle": "2022-11-15T18:32:16.611721Z",
     "shell.execute_reply": "2022-11-15T18:32:16.610529Z"
    },
    "papermill": {
     "duration": 23.757645,
     "end_time": "2022-11-15T18:32:16.614675",
     "exception": false,
     "start_time": "2022-11-15T18:31:52.857030",
     "status": "completed"
    },
    "tags": []
   },
   "outputs": [
    {
     "name": "stderr",
     "output_type": "stream",
     "text": [
      "/opt/conda/lib/python3.7/site-packages/ipykernel_launcher.py:7: DeprecationWarning: Starting with ImageIO v3 the behavior of this function will switch to that of iio.v3.imread. To keep the current behavior (and make this warning dissapear) use `import imageio.v2 as imageio` or call `imageio.v2.imread` directly.\n",
      "  import sys\n"
     ]
    }
   ],
   "source": [
    "import imageio\n",
    "import glob\n",
    "import numpy as np\n",
    "\n",
    "arr = []\n",
    "for im_path in glob.glob(\"../input/trees-in-satellite-imagery/Trees in Satellite Imagery/Trees/*.jpg\"):\n",
    "     im = imageio.imread(im_path)\n",
    "     arr.append(im)\n",
    "data = np.array(arr)"
   ]
  },
  {
   "cell_type": "code",
   "execution_count": 2,
   "id": "63b7e377",
   "metadata": {
    "execution": {
     "iopub.execute_input": "2022-11-15T18:32:16.629020Z",
     "iopub.status.busy": "2022-11-15T18:32:16.628655Z",
     "iopub.status.idle": "2022-11-15T18:32:16.739691Z",
     "shell.execute_reply": "2022-11-15T18:32:16.738412Z"
    },
    "papermill": {
     "duration": 0.120657,
     "end_time": "2022-11-15T18:32:16.741925",
     "exception": false,
     "start_time": "2022-11-15T18:32:16.621268",
     "status": "completed"
    },
    "tags": []
   },
   "outputs": [
    {
     "data": {
      "text/plain": [
       "(5200, 64, 64, 3)"
      ]
     },
     "execution_count": 2,
     "metadata": {},
     "output_type": "execute_result"
    }
   ],
   "source": [
    "data.shape"
   ]
  },
  {
   "cell_type": "code",
   "execution_count": 3,
   "id": "5a74d0d8",
   "metadata": {
    "execution": {
     "iopub.execute_input": "2022-11-15T18:32:16.756310Z",
     "iopub.status.busy": "2022-11-15T18:32:16.755852Z",
     "iopub.status.idle": "2022-11-15T18:32:16.761131Z",
     "shell.execute_reply": "2022-11-15T18:32:16.760330Z"
    },
    "papermill": {
     "duration": 0.014967,
     "end_time": "2022-11-15T18:32:16.763222",
     "exception": false,
     "start_time": "2022-11-15T18:32:16.748255",
     "status": "completed"
    },
    "tags": []
   },
   "outputs": [],
   "source": [
    "n_split = 1\n",
    "data = data.reshape(int(data.shape[0]*n_split**2), int(data.shape[1]/n_split),int(data.shape[1]/n_split),3)"
   ]
  },
  {
   "cell_type": "code",
   "execution_count": 4,
   "id": "547d50c6",
   "metadata": {
    "execution": {
     "iopub.execute_input": "2022-11-15T18:32:16.777311Z",
     "iopub.status.busy": "2022-11-15T18:32:16.776892Z",
     "iopub.status.idle": "2022-11-15T18:32:16.783790Z",
     "shell.execute_reply": "2022-11-15T18:32:16.782800Z"
    },
    "papermill": {
     "duration": 0.016574,
     "end_time": "2022-11-15T18:32:16.786077",
     "exception": false,
     "start_time": "2022-11-15T18:32:16.769503",
     "status": "completed"
    },
    "tags": []
   },
   "outputs": [
    {
     "data": {
      "text/plain": [
       "(5200, 64, 64, 3)"
      ]
     },
     "execution_count": 4,
     "metadata": {},
     "output_type": "execute_result"
    }
   ],
   "source": [
    "data.shape"
   ]
  },
  {
   "cell_type": "code",
   "execution_count": 5,
   "id": "b00a2af7",
   "metadata": {
    "execution": {
     "iopub.execute_input": "2022-11-15T18:32:16.800579Z",
     "iopub.status.busy": "2022-11-15T18:32:16.800162Z",
     "iopub.status.idle": "2022-11-15T18:32:23.505800Z",
     "shell.execute_reply": "2022-11-15T18:32:23.504610Z"
    },
    "papermill": {
     "duration": 6.716165,
     "end_time": "2022-11-15T18:32:23.508664",
     "exception": false,
     "start_time": "2022-11-15T18:32:16.792499",
     "status": "completed"
    },
    "tags": []
   },
   "outputs": [],
   "source": [
    "import tensorflow as tf\n",
    "import numpy as np\n",
    "import matplotlib.pyplot as plt\n",
    "import sklearn\n",
    "import keras\n",
    "from keras.models import Sequential\n",
    "from keras.layers import Dense, Activation, Flatten, Input\n",
    "from keras.layers import Conv2D, MaxPooling2D, UpSampling2D\n",
    "import matplotlib.pyplot as plt\n",
    "from keras import backend as K\n",
    "from keras import layers\n",
    "%matplotlib inline"
   ]
  },
  {
   "cell_type": "code",
   "execution_count": 6,
   "id": "b215e7af",
   "metadata": {
    "execution": {
     "iopub.execute_input": "2022-11-15T18:32:23.524327Z",
     "iopub.status.busy": "2022-11-15T18:32:23.523039Z",
     "iopub.status.idle": "2022-11-15T18:32:23.749592Z",
     "shell.execute_reply": "2022-11-15T18:32:23.748495Z"
    },
    "papermill": {
     "duration": 0.23736,
     "end_time": "2022-11-15T18:32:23.752446",
     "exception": false,
     "start_time": "2022-11-15T18:32:23.515086",
     "status": "completed"
    },
    "tags": []
   },
   "outputs": [],
   "source": [
    "from sklearn.model_selection import train_test_split\n",
    "x_train, x_test = train_test_split(data, test_size=0.2, random_state=42)\n",
    "x_train = x_train.astype('float32') / 255.\n",
    "x_test = x_test.astype('float32') / 255."
   ]
  },
  {
   "cell_type": "code",
   "execution_count": 7,
   "id": "8063bd17",
   "metadata": {
    "execution": {
     "iopub.execute_input": "2022-11-15T18:32:23.766968Z",
     "iopub.status.busy": "2022-11-15T18:32:23.766578Z",
     "iopub.status.idle": "2022-11-15T18:32:23.771806Z",
     "shell.execute_reply": "2022-11-15T18:32:23.770628Z"
    },
    "papermill": {
     "duration": 0.015275,
     "end_time": "2022-11-15T18:32:23.774113",
     "exception": false,
     "start_time": "2022-11-15T18:32:23.758838",
     "status": "completed"
    },
    "tags": []
   },
   "outputs": [],
   "source": [
    "x_train = x_train.reshape(x_train.shape[0], x_train.shape[1],x_train.shape[1],3)\n",
    "x_test = x_test.reshape(x_test.shape[0], x_train.shape[1],x_train.shape[1],3)"
   ]
  },
  {
   "cell_type": "code",
   "execution_count": 8,
   "id": "7202fff3",
   "metadata": {
    "execution": {
     "iopub.execute_input": "2022-11-15T18:32:23.790353Z",
     "iopub.status.busy": "2022-11-15T18:32:23.789571Z",
     "iopub.status.idle": "2022-11-15T18:32:23.982745Z",
     "shell.execute_reply": "2022-11-15T18:32:23.981285Z"
    },
    "papermill": {
     "duration": 0.203281,
     "end_time": "2022-11-15T18:32:23.985313",
     "exception": false,
     "start_time": "2022-11-15T18:32:23.782032",
     "status": "completed"
    },
    "tags": []
   },
   "outputs": [
    {
     "name": "stderr",
     "output_type": "stream",
     "text": [
      "2022-11-15 18:32:23.847415: I tensorflow/core/common_runtime/process_util.cc:146] Creating new thread pool with default inter op setting: 2. Tune using inter_op_parallelism_threads for best performance.\n"
     ]
    }
   ],
   "source": [
    "input_img = keras.Input(shape=(64, 64, 3))\n",
    "\n",
    "x = Conv2D(32, kernel_size = (3,3), activation='relu', padding = 'same')(input_img)\n",
    "x = MaxPooling2D((2, 2), padding='same')(x)\n",
    "x = Conv2D(16, kernel_size = (3,3), activation='relu', padding = 'same')(x)\n",
    "x = MaxPooling2D((2, 2), padding='same')(x)\n",
    "x = Conv2D(8, kernel_size = (3,3), activation='relu', padding = 'same')(x)\n",
    "encoded = MaxPooling2D((2, 2), padding='same')(x)\n",
    "\n",
    "x = Conv2D(8, (3, 3), activation='relu', padding='same')(encoded)\n",
    "x = UpSampling2D((2, 2))(x)\n",
    "x = Conv2D(16, (3, 3), activation='relu', padding='same')(x)\n",
    "x = UpSampling2D((2, 2))(x)\n",
    "x = UpSampling2D((2, 2))(x)\n",
    "decoded = Conv2D(3, (3, 3), activation='sigmoid', padding='same')(x)\n",
    "\n",
    "autoencoder = keras.Model(input_img, decoded)\n",
    "autoencoder.compile(optimizer='adam', loss='mean_squared_error')"
   ]
  },
  {
   "cell_type": "code",
   "execution_count": 9,
   "id": "e71bb2fe",
   "metadata": {
    "execution": {
     "iopub.execute_input": "2022-11-15T18:32:23.999986Z",
     "iopub.status.busy": "2022-11-15T18:32:23.999568Z",
     "iopub.status.idle": "2022-11-15T18:32:24.006614Z",
     "shell.execute_reply": "2022-11-15T18:32:24.005471Z"
    },
    "papermill": {
     "duration": 0.018435,
     "end_time": "2022-11-15T18:32:24.010241",
     "exception": false,
     "start_time": "2022-11-15T18:32:23.991806",
     "status": "completed"
    },
    "tags": []
   },
   "outputs": [
    {
     "name": "stdout",
     "output_type": "stream",
     "text": [
      "Model: \"model\"\n",
      "_________________________________________________________________\n",
      "Layer (type)                 Output Shape              Param #   \n",
      "=================================================================\n",
      "input_1 (InputLayer)         [(None, 64, 64, 3)]       0         \n",
      "_________________________________________________________________\n",
      "conv2d (Conv2D)              (None, 64, 64, 32)        896       \n",
      "_________________________________________________________________\n",
      "max_pooling2d (MaxPooling2D) (None, 32, 32, 32)        0         \n",
      "_________________________________________________________________\n",
      "conv2d_1 (Conv2D)            (None, 32, 32, 16)        4624      \n",
      "_________________________________________________________________\n",
      "max_pooling2d_1 (MaxPooling2 (None, 16, 16, 16)        0         \n",
      "_________________________________________________________________\n",
      "conv2d_2 (Conv2D)            (None, 16, 16, 8)         1160      \n",
      "_________________________________________________________________\n",
      "max_pooling2d_2 (MaxPooling2 (None, 8, 8, 8)           0         \n",
      "_________________________________________________________________\n",
      "conv2d_3 (Conv2D)            (None, 8, 8, 8)           584       \n",
      "_________________________________________________________________\n",
      "up_sampling2d (UpSampling2D) (None, 16, 16, 8)         0         \n",
      "_________________________________________________________________\n",
      "conv2d_4 (Conv2D)            (None, 16, 16, 16)        1168      \n",
      "_________________________________________________________________\n",
      "up_sampling2d_1 (UpSampling2 (None, 32, 32, 16)        0         \n",
      "_________________________________________________________________\n",
      "up_sampling2d_2 (UpSampling2 (None, 64, 64, 16)        0         \n",
      "_________________________________________________________________\n",
      "conv2d_5 (Conv2D)            (None, 64, 64, 3)         435       \n",
      "=================================================================\n",
      "Total params: 8,867\n",
      "Trainable params: 8,867\n",
      "Non-trainable params: 0\n",
      "_________________________________________________________________\n"
     ]
    }
   ],
   "source": [
    "autoencoder.summary()"
   ]
  },
  {
   "cell_type": "code",
   "execution_count": 10,
   "id": "6781a8ba",
   "metadata": {
    "execution": {
     "iopub.execute_input": "2022-11-15T18:32:24.024744Z",
     "iopub.status.busy": "2022-11-15T18:32:24.024365Z",
     "iopub.status.idle": "2022-11-15T18:33:47.195312Z",
     "shell.execute_reply": "2022-11-15T18:33:47.194045Z"
    },
    "papermill": {
     "duration": 83.181292,
     "end_time": "2022-11-15T18:33:47.197978",
     "exception": false,
     "start_time": "2022-11-15T18:32:24.016686",
     "status": "completed"
    },
    "tags": []
   },
   "outputs": [
    {
     "name": "stderr",
     "output_type": "stream",
     "text": [
      "2022-11-15 18:32:24.535412: I tensorflow/compiler/mlir/mlir_graph_optimization_pass.cc:185] None of the MLIR Optimization Passes are enabled (registered 2)\n"
     ]
    },
    {
     "name": "stdout",
     "output_type": "stream",
     "text": [
      "Epoch 1/10\n",
      "65/65 [==============================] - 9s 130ms/step - loss: 0.0235 - val_loss: 0.0057\n",
      "Epoch 2/10\n",
      "65/65 [==============================] - 7s 114ms/step - loss: 0.0036 - val_loss: 0.0028\n",
      "Epoch 3/10\n",
      "65/65 [==============================] - 7s 115ms/step - loss: 0.0025 - val_loss: 0.0022\n",
      "Epoch 4/10\n",
      "65/65 [==============================] - 7s 112ms/step - loss: 0.0021 - val_loss: 0.0020\n",
      "Epoch 5/10\n",
      "65/65 [==============================] - 8s 123ms/step - loss: 0.0019 - val_loss: 0.0018\n",
      "Epoch 6/10\n",
      "65/65 [==============================] - 7s 115ms/step - loss: 0.0017 - val_loss: 0.0016\n",
      "Epoch 7/10\n",
      "65/65 [==============================] - 7s 112ms/step - loss: 0.0016 - val_loss: 0.0015\n",
      "Epoch 8/10\n",
      "65/65 [==============================] - 8s 117ms/step - loss: 0.0015 - val_loss: 0.0014\n",
      "Epoch 9/10\n",
      "65/65 [==============================] - 8s 125ms/step - loss: 0.0015 - val_loss: 0.0014\n",
      "Epoch 10/10\n",
      "65/65 [==============================] - 7s 112ms/step - loss: 0.0014 - val_loss: 0.0014\n"
     ]
    },
    {
     "data": {
      "text/plain": [
       "<keras.callbacks.History at 0x7fced7b68810>"
      ]
     },
     "execution_count": 10,
     "metadata": {},
     "output_type": "execute_result"
    }
   ],
   "source": [
    "autoencoder.fit(x_train, x_train,\n",
    "                epochs=10,\n",
    "                batch_size=64,\n",
    "                shuffle=True,\n",
    "                validation_data=(x_test, x_test))"
   ]
  },
  {
   "cell_type": "code",
   "execution_count": 11,
   "id": "2877b49c",
   "metadata": {
    "execution": {
     "iopub.execute_input": "2022-11-15T18:33:47.292650Z",
     "iopub.status.busy": "2022-11-15T18:33:47.292245Z",
     "iopub.status.idle": "2022-11-15T18:34:11.538099Z",
     "shell.execute_reply": "2022-11-15T18:34:11.536970Z"
    },
    "papermill": {
     "duration": 24.296826,
     "end_time": "2022-11-15T18:34:11.540923",
     "exception": false,
     "start_time": "2022-11-15T18:33:47.244097",
     "status": "completed"
    },
    "tags": []
   },
   "outputs": [
    {
     "name": "stderr",
     "output_type": "stream",
     "text": [
      "/opt/conda/lib/python3.7/site-packages/ipykernel_launcher.py:3: DeprecationWarning: Starting with ImageIO v3 the behavior of this function will switch to that of iio.v3.imread. To keep the current behavior (and make this warning dissapear) use `import imageio.v2 as imageio` or call `imageio.v2.imread` directly.\n",
      "  This is separate from the ipykernel package so we can avoid doing imports until\n"
     ]
    }
   ],
   "source": [
    "arrb = []\n",
    "for im_path in glob.glob(\"../input/trees-in-satellite-imagery/Trees in Satellite Imagery/NoTrees/*.jpg\"):\n",
    "     im = imageio.imread(im_path)\n",
    "     arrb.append(im)"
   ]
  },
  {
   "cell_type": "code",
   "execution_count": 12,
   "id": "f1953ea8",
   "metadata": {
    "execution": {
     "iopub.execute_input": "2022-11-15T18:34:11.637911Z",
     "iopub.status.busy": "2022-11-15T18:34:11.636601Z",
     "iopub.status.idle": "2022-11-15T18:34:11.671954Z",
     "shell.execute_reply": "2022-11-15T18:34:11.670514Z"
    },
    "papermill": {
     "duration": 0.086373,
     "end_time": "2022-11-15T18:34:11.674648",
     "exception": false,
     "start_time": "2022-11-15T18:34:11.588275",
     "status": "completed"
    },
    "tags": []
   },
   "outputs": [],
   "source": [
    "data_anomaly = np.array(arrb)"
   ]
  },
  {
   "cell_type": "code",
   "execution_count": 13,
   "id": "efb11eea",
   "metadata": {
    "execution": {
     "iopub.execute_input": "2022-11-15T18:34:11.770746Z",
     "iopub.status.busy": "2022-11-15T18:34:11.770287Z",
     "iopub.status.idle": "2022-11-15T18:34:11.776472Z",
     "shell.execute_reply": "2022-11-15T18:34:11.775105Z"
    },
    "papermill": {
     "duration": 0.058235,
     "end_time": "2022-11-15T18:34:11.779163",
     "exception": false,
     "start_time": "2022-11-15T18:34:11.720928",
     "status": "completed"
    },
    "tags": []
   },
   "outputs": [],
   "source": [
    "n_split = 1\n",
    "data_anomaly = data_anomaly.reshape(int(data_anomaly.shape[0]*n_split**2), int(data_anomaly.shape[1]/n_split),int(data_anomaly.shape[1]/n_split), 3)"
   ]
  },
  {
   "cell_type": "code",
   "execution_count": 14,
   "id": "8e992da7",
   "metadata": {
    "execution": {
     "iopub.execute_input": "2022-11-15T18:34:11.874070Z",
     "iopub.status.busy": "2022-11-15T18:34:11.873682Z",
     "iopub.status.idle": "2022-11-15T18:34:11.880362Z",
     "shell.execute_reply": "2022-11-15T18:34:11.879336Z"
    },
    "papermill": {
     "duration": 0.0574,
     "end_time": "2022-11-15T18:34:11.882955",
     "exception": false,
     "start_time": "2022-11-15T18:34:11.825555",
     "status": "completed"
    },
    "tags": []
   },
   "outputs": [],
   "source": [
    "data_anomaly = data_anomaly.reshape(data_anomaly.shape[0], data_anomaly.shape[1],data_anomaly.shape[1],3)"
   ]
  },
  {
   "cell_type": "code",
   "execution_count": 15,
   "id": "a697ee9f",
   "metadata": {
    "execution": {
     "iopub.execute_input": "2022-11-15T18:34:11.976727Z",
     "iopub.status.busy": "2022-11-15T18:34:11.976270Z",
     "iopub.status.idle": "2022-11-15T18:34:13.364570Z",
     "shell.execute_reply": "2022-11-15T18:34:13.363487Z"
    },
    "papermill": {
     "duration": 1.438066,
     "end_time": "2022-11-15T18:34:13.367155",
     "exception": false,
     "start_time": "2022-11-15T18:34:11.929089",
     "status": "completed"
    },
    "tags": []
   },
   "outputs": [],
   "source": [
    "n = 1000\n",
    "tree  = x_test[0:n].reshape(n,64,64,3)\n",
    "no_tree = data_anomaly[0:n].reshape(n, 64,64,3) \n",
    "no_tree = no_tree.astype('float32') / 255.\n",
    "tree_reconstruct = autoencoder.predict(tree).reshape(n,(64**2)*3)\n",
    "no_tree_reconstruct = autoencoder.predict(no_tree).reshape(n,(64**2)*3)"
   ]
  },
  {
   "cell_type": "code",
   "execution_count": 16,
   "id": "0936846e",
   "metadata": {
    "execution": {
     "iopub.execute_input": "2022-11-15T18:34:13.462006Z",
     "iopub.status.busy": "2022-11-15T18:34:13.460832Z",
     "iopub.status.idle": "2022-11-15T18:34:13.592944Z",
     "shell.execute_reply": "2022-11-15T18:34:13.591526Z"
    },
    "papermill": {
     "duration": 0.182701,
     "end_time": "2022-11-15T18:34:13.595774",
     "exception": false,
     "start_time": "2022-11-15T18:34:13.413073",
     "status": "completed"
    },
    "tags": []
   },
   "outputs": [],
   "source": [
    "rmse_tree = np.sqrt(np.square(tree.reshape(n,(64**2)*3) - tree_reconstruct)).mean(axis=-1)\n",
    "rmse_no_tree = np.sqrt(np.square(no_tree.reshape(n,(64**2)*3) - no_tree_reconstruct)).mean(axis=-1)"
   ]
  },
  {
   "cell_type": "code",
   "execution_count": 17,
   "id": "d4f0129a",
   "metadata": {
    "execution": {
     "iopub.execute_input": "2022-11-15T18:34:13.690295Z",
     "iopub.status.busy": "2022-11-15T18:34:13.689047Z",
     "iopub.status.idle": "2022-11-15T18:34:13.694246Z",
     "shell.execute_reply": "2022-11-15T18:34:13.693239Z"
    },
    "papermill": {
     "duration": 0.055065,
     "end_time": "2022-11-15T18:34:13.696883",
     "exception": false,
     "start_time": "2022-11-15T18:34:13.641818",
     "status": "completed"
    },
    "tags": []
   },
   "outputs": [],
   "source": [
    "threshold = 0.05"
   ]
  },
  {
   "cell_type": "code",
   "execution_count": 18,
   "id": "e15bfe0c",
   "metadata": {
    "execution": {
     "iopub.execute_input": "2022-11-15T18:34:13.790713Z",
     "iopub.status.busy": "2022-11-15T18:34:13.789957Z",
     "iopub.status.idle": "2022-11-15T18:34:14.043092Z",
     "shell.execute_reply": "2022-11-15T18:34:14.041867Z"
    },
    "papermill": {
     "duration": 0.303367,
     "end_time": "2022-11-15T18:34:14.046205",
     "exception": false,
     "start_time": "2022-11-15T18:34:13.742838",
     "status": "completed"
    },
    "tags": []
   },
   "outputs": [
    {
     "data": {
      "image/png": "[encoded data removed]",
      "text/plain": [
       "<Figure size 432x288 with 1 Axes>"
      ]
     },
     "metadata": {
      "needs_background": "light"
     },
     "output_type": "display_data"
    }
   ],
   "source": [
    "from matplotlib import pyplot\n",
    "plt.hist(rmse_tree,alpha=0.5, label='Trees', bins = 20)\n",
    "plt.hist(rmse_no_tree,alpha=0.5, label='No Trees', bins = 20)\n",
    "plt.legend(loc='upper right')\n",
    "plt.xlabel('Error')\n",
    "plt.ylabel('Count')\n",
    "plt.axvline(x = threshold, color = 'r', label = 'Threshold')\n",
    "pyplot.show()"
   ]
  },
  {
   "cell_type": "code",
   "execution_count": 19,
   "id": "aee0b15b",
   "metadata": {
    "execution": {
     "iopub.execute_input": "2022-11-15T18:34:14.142729Z",
     "iopub.status.busy": "2022-11-15T18:34:14.141248Z",
     "iopub.status.idle": "2022-11-15T18:34:14.148093Z",
     "shell.execute_reply": "2022-11-15T18:34:14.147220Z"
    },
    "papermill": {
     "duration": 0.057694,
     "end_time": "2022-11-15T18:34:14.150690",
     "exception": false,
     "start_time": "2022-11-15T18:34:14.092996",
     "status": "completed"
    },
    "tags": []
   },
   "outputs": [],
   "source": [
    "tree_labels = np.zeros((n,1))\n",
    "no_tree_labels = np.ones((n,1))\n",
    "y_true = np.concatenate((tree_labels, no_tree_labels), axis = 0)"
   ]
  },
  {
   "cell_type": "code",
   "execution_count": 20,
   "id": "01aee6d4",
   "metadata": {
    "execution": {
     "iopub.execute_input": "2022-11-15T18:34:14.245860Z",
     "iopub.status.busy": "2022-11-15T18:34:14.245210Z",
     "iopub.status.idle": "2022-11-15T18:34:14.251524Z",
     "shell.execute_reply": "2022-11-15T18:34:14.250312Z"
    },
    "papermill": {
     "duration": 0.056019,
     "end_time": "2022-11-15T18:34:14.253723",
     "exception": false,
     "start_time": "2022-11-15T18:34:14.197704",
     "status": "completed"
    },
    "tags": []
   },
   "outputs": [],
   "source": [
    "anomaly_prediction = np.where(rmse_tree  > threshold, 0, 1)\n",
    "normal_prediction = np.where(rmse_no_tree  < threshold, 0, 1)\n",
    "y_pred = np.concatenate((normal_prediction, anomaly_prediction), axis = 0)"
   ]
  },
  {
   "cell_type": "code",
   "execution_count": 21,
   "id": "e4827c6e",
   "metadata": {
    "execution": {
     "iopub.execute_input": "2022-11-15T18:34:14.348088Z",
     "iopub.status.busy": "2022-11-15T18:34:14.347014Z",
     "iopub.status.idle": "2022-11-15T18:34:14.355584Z",
     "shell.execute_reply": "2022-11-15T18:34:14.354372Z"
    },
    "papermill": {
     "duration": 0.05852,
     "end_time": "2022-11-15T18:34:14.357923",
     "exception": false,
     "start_time": "2022-11-15T18:34:14.299403",
     "status": "completed"
    },
    "tags": []
   },
   "outputs": [
    {
     "data": {
      "text/plain": [
       "0.689"
      ]
     },
     "execution_count": 21,
     "metadata": {},
     "output_type": "execute_result"
    }
   ],
   "source": [
    "from sklearn.metrics import accuracy_score\n",
    "\n",
    "accuracy_score(y_true, y_pred)"
   ]
  },
  {
   "cell_type": "code",
   "execution_count": 22,
   "id": "328059c0",
   "metadata": {
    "execution": {
     "iopub.execute_input": "2022-11-15T18:34:14.454620Z",
     "iopub.status.busy": "2022-11-15T18:34:14.453489Z",
     "iopub.status.idle": "2022-11-15T18:34:14.462317Z",
     "shell.execute_reply": "2022-11-15T18:34:14.461187Z"
    },
    "papermill": {
     "duration": 0.060581,
     "end_time": "2022-11-15T18:34:14.465142",
     "exception": false,
     "start_time": "2022-11-15T18:34:14.404561",
     "status": "completed"
    },
    "tags": []
   },
   "outputs": [],
   "source": [
    "from sklearn.metrics import confusion_matrix\n",
    "confusion_matrix = confusion_matrix(y_true, y_pred)"
   ]
  },
  {
   "cell_type": "code",
   "execution_count": 23,
   "id": "45b97ce5",
   "metadata": {
    "execution": {
     "iopub.execute_input": "2022-11-15T18:34:14.558773Z",
     "iopub.status.busy": "2022-11-15T18:34:14.558360Z",
     "iopub.status.idle": "2022-11-15T18:34:14.917259Z",
     "shell.execute_reply": "2022-11-15T18:34:14.915891Z"
    },
    "papermill": {
     "duration": 0.409535,
     "end_time": "2022-11-15T18:34:14.920403",
     "exception": false,
     "start_time": "2022-11-15T18:34:14.510868",
     "status": "completed"
    },
    "tags": []
   },
   "outputs": [
    {
     "data": {
      "image/png": "[encoded data removed]",
      "text/plain": [
       "<Figure size 432x288 with 2 Axes>"
      ]
     },
     "metadata": {},
     "output_type": "display_data"
    }
   ],
   "source": [
    "import seaborn as sn\n",
    "sn.set(font_scale=1.4) # for label size\n",
    "sn.heatmap(confusion_matrix, annot=True, annot_kws={\"size\": 16}) # font size\n",
    "\n",
    "plt.show()"
   ]
  }
 ],
 "metadata": {
  "kernelspec": {
   "display_name": "Python 3",
   "language": "python",
   "name": "python3"
  },
  "language_info": {
   "codemirror_mode": {
    "name": "ipython",
    "version": 3
   },
   "file_extension": ".py",
   "mimetype": "text/x-python",
   "name": "python",
   "nbconvert_exporter": "python",
   "pygments_lexer": "ipython3",
   "version": "3.7.12"
  },
  "papermill": {
   "default_parameters": {},
   "duration": 154.267885,
   "end_time": "2022-11-15T18:34:18.200111",
   "environment_variables": {},
   "exception": null,
   "input_path": "__notebook__.ipynb",
   "output_path": "__notebook__.ipynb",
   "parameters": {},
   "start_time": "2022-11-15T18:31:43.932226",
   "version": "2.3.4"
  }
 },
 "nbformat": 4,
 "nbformat_minor": 5
}
